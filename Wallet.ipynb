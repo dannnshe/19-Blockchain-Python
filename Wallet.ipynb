{
 "cells": [
  {
   "cell_type": "code",
   "execution_count": 1,
   "id": "72eb0761-5e9f-494e-a18e-61ddad52cdf7",
   "metadata": {},
   "outputs": [],
   "source": [
    "# Import dependencies\n",
    "import subprocess\n",
    "import json\n",
    "from dotenv import load_dotenv\n",
    "import os\n",
    "\n",
    "from eth_account import Account\n",
    "from bit import Key, PrivateKey, PrivateKeyTestnet\n",
    "from bit.network import NetworkAPI"
   ]
  },
  {
   "cell_type": "code",
   "execution_count": 2,
   "id": "860fdd23-b2f3-440b-9541-408134466a3b",
   "metadata": {},
   "outputs": [
    {
     "name": "stdout",
     "output_type": "stream",
     "text": [
      "uncle tobacco stone brisk release globe deer iron spare ill bounce youth stage owner issue\n"
     ]
    }
   ],
   "source": [
    "# Load and set environment variables\n",
    "load_dotenv()\n",
    "mnemonic=os.getenv(\"mnemonic\")\n",
    "print(mnemonic)"
   ]
  },
  {
   "cell_type": "code",
   "execution_count": 3,
   "id": "cb434020-a2f1-415c-82ab-88e8d06e7a96",
   "metadata": {},
   "outputs": [],
   "source": [
    "#Setup constants\n",
    "\n",
    "from constants import *"
   ]
  },
  {
   "cell_type": "code",
   "execution_count": 4,
   "id": "b6c48dfe-c90d-4120-a45b-dbdf7fd7c3ae",
   "metadata": {},
   "outputs": [],
   "source": [
    "# Import constants.py and necessary functions from bit and web3\n",
    "\n",
    "\n",
    "from web3 import Web3\n",
    "w3= Web3(Web3.HTTPProvider(\"http://127.0.0.1:8545\"))\n",
    "\n",
    "\n",
    "#number of blocked mined\n",
    "#w3.eth.blockNumber\n",
    "\n",
    "#we want to get the balance\n",
    "# w3.eth.getBalance(\"0x7b78e7B83AE10b5Bb000a28FD0ff11b406e37Fe9\")"
   ]
  },
  {
   "cell_type": "code",
   "execution_count": 5,
   "id": "a520b9b0-f5ba-44eb-b143-7fc6e155c197",
   "metadata": {},
   "outputs": [],
   "source": [
    "ETH = 'eth'\n",
    "BTC = 'btc'\n",
    "BTCTEST = 'btc-test'"
   ]
  },
  {
   "cell_type": "code",
   "execution_count": 6,
   "id": "c72cc5fa-a629-48c3-a339-6ad69b8398ca",
   "metadata": {},
   "outputs": [],
   "source": [
    "def derive_wallets(phrase, coin, numderive):\n",
    "    command = f'php derive -g --mnemonic=\"{phrase}\" --numderive={numderive} --coin={coin} --format=json'\n",
    "    p = subprocess.Popen(command,stdout=subprocess.PIPE,shell=True)\n",
    "    (output, err) = p.communicate()\n",
    "    p_status=p.wait()\n",
    "    return json.loads(output)"
   ]
  },
  {
   "cell_type": "code",
   "execution_count": 7,
   "id": "3d7e6a08-99cc-4bae-bba1-5dc26d955cf4",
   "metadata": {},
   "outputs": [
    {
     "name": "stdout",
     "output_type": "stream",
     "text": [
      "{\n",
      "    \"btc-test\": [\n",
      "        {\n",
      "            \"address\": \"mhbPMTNRNg4aR82NmBDPvn28bUWUW9zd51\",\n",
      "            \"index\": 0,\n",
      "            \"path\": \"m/44'/1'/0'/0/0\",\n",
      "            \"privkey\": \"cSyPcxTUeFxJcjqVmb5hupuGirjSBiqGVueXQE2NHmpeGvKXnH1E\",\n",
      "            \"pubkey\": \"02f53ed1ae8a5ad518049cade7e41e187b276bd46f75c597727be04ce4ce20991c\",\n",
      "            \"pubkeyhash\": \"16c6d5545d6e70c5dd9398828b22b95590e8208a\",\n",
      "            \"xprv\": \"tprv8kBw7PjwVJXbKqt1sXPy9XaerHUtcSQmQjAfRMqykRzjAPvffL6i1UxKg5kEYmuJAD4xbXVJJMHctpPjvGWgFwfxtKeCUT6zXcXKUYV85Kb\",\n",
      "            \"xpub\": \"tpubDGsyFonBdgDGDJuomB4ZYwEmRJzpmmbfz2mShstHAho7ztBSHivJByaBrDLJ3TkCkvP49HJE2D3DXicTykHGfsgJ4QL3ARMHW1NhPBkw34y\"\n",
      "        },\n",
      "        {\n",
      "            \"address\": \"mfXhBW9nQBgrGYpRJMquVLjwFMy8FurX5T\",\n",
      "            \"index\": 1,\n",
      "            \"path\": \"m/44'/1'/0'/0/1\",\n",
      "            \"privkey\": \"cPBLzRF8rha8jwnSyEmGhwZTbXKbpxXK8Jp22Ntg8QUv3hU1LHjA\",\n",
      "            \"pubkey\": \"02c6db5cdf135209b3e0dbce561638909f90f0f85ab358a60163d356a825d104e4\",\n",
      "            \"pubkeyhash\": \"0023cce15c7386e1c0c03320c3b2475e80e61f12\",\n",
      "            \"xprv\": \"tprv8kBw7PjwVJXbN1TfJwvpLRVL5XmtfDbfjBjp8RmzNHuRg9nT7gGRJ8GVVn74tMNPNsoiVnBj6s3xgGRhXcWjPp8YUPZRAoF2ch3tVFNXhd5\",\n",
      "            \"xpub\": \"tpubDGsyFonBdgDGFUVTCbbQjq9SeZHppYnaJVLbQwpHnZhpWe3Dk561UctMfvCYyvA1fszFgW2gfoiXrvzZxx9hhVokvzJ5ujWDACqNY78NUHR\"\n",
      "        },\n",
      "        {\n",
      "            \"address\": \"myh59xSqBtXxwB5wf7H7dh3RgTGzAmnLvc\",\n",
      "            \"index\": 2,\n",
      "            \"path\": \"m/44'/1'/0'/0/2\",\n",
      "            \"privkey\": \"cPKvAUAkD89w6mh6kcJLDFdeEvJuRktUH4szzCCADYvsWYbnBW95\",\n",
      "            \"pubkey\": \"02195ccf5e1a35ee4a869ae66acbb69f0917f71da1fc7bbfebacf5588c3f306d15\",\n",
      "            \"pubkeyhash\": \"c75c2686b47ffdd245854ebd2d822aae8c74e15d\",\n",
      "            \"xprv\": \"tprv8kBw7PjwVJXbQLCqHxiaJ5BJ2UkNskwKQLab1A23w2gefwuKobAiBDqV2f4D7oz93VBTEDfELUxK1ZNGfxAZcYS6Adv78pf2JfQtAdVyzuw\",\n",
      "            \"xpub\": \"tpubDGsyFonBdgDGHoEdBcPAhUqQbWGK368DyeBNHg4MMJV3WSA6RyzJMiTMCmoLtkkKhxEhBj72zcmcyaaYeVDB5rjigycGJntF8cCot9CS2a4\"\n",
      "        }\n",
      "    ],\n",
      "    \"eth\": [\n",
      "        {\n",
      "            \"address\": \"0x452dcAe8D06a6fe7ee346c2809AB4D8860Db7f9E\",\n",
      "            \"index\": 0,\n",
      "            \"path\": \"m/44'/60'/0'/0/0\",\n",
      "            \"privkey\": \"0x823c46a2a4579ce54ab20c1c7fc3a67d9cde500dbf05377f76d270d1c773e1ad\",\n",
      "            \"pubkey\": \"03025ecc52b5de33750448aec71693648fa18fc384d6c7041ada5a630d82dbc107\",\n",
      "            \"pubkeyhash\": \"9033aef68c2a0740310bc7e7ef9c699f1f7735e1\",\n",
      "            \"xprv\": \"xprvA3NGkzdWKH2XyjJpH22nxFw3WXa7vCyZMHhJShhDABD1HnDHUkWtcjGgNKpq5zwQ9PLdU6HYsBU31E83ix1Fj8WxdGA1M6EcSfJEscx88DP\",\n",
      "            \"xpub\": \"xpub6GMdAWAQ9eaqCDPHP3ZoKPsn4ZQcKfhQiWcuF66piWjzAaYS2Hq9AXbADbq2ZYRXtSUuYPBL6uL1Xx2wKsb3Q8YTDyRPsJmjDeSsQb49SXe\"\n",
      "        },\n",
      "        {\n",
      "            \"address\": \"0xf0aA915E499b561e2f11905Ec2b31A58d73019b1\",\n",
      "            \"index\": 1,\n",
      "            \"path\": \"m/44'/60'/0'/0/1\",\n",
      "            \"privkey\": \"0xc69c48c580de35277b397fc4ff7d8bfc4e0fdd4e3c1b4eecd57bf99c6cda2097\",\n",
      "            \"pubkey\": \"03dbb305192f5b71ef8db3906ce3b06b1d918b6446628f30215e778088fd7d1cbe\",\n",
      "            \"pubkeyhash\": \"c35e0e88615acc4f2d25e45926736003567eeb73\",\n",
      "            \"xprv\": \"xprvA3NGkzdWKH2Y3TRtLmVsMZ47HV7vX1LRxVUF64ZKJVeWPUJ1KcotBjbfgSEByfwR2d4XzHPRrj9jFsezfVQ1FgucXFYUppAAiVJKYau5nDF\",\n",
      "            \"xpub\": \"xpub6GMdAWAQ9eaqFwWMSo2sigzqqWxQvU4HKiPqtSxvrqBVGGd9sA88jXv9XjMzHJ3GFXtNd9g5iiAM7DKp8cAaBj1F9g5si5NSpXyMuvxP7v3\"\n",
      "        },\n",
      "        {\n",
      "            \"address\": \"0xe4fEE6832504dD8c6e4d70b91dbfEdE927B00c57\",\n",
      "            \"index\": 2,\n",
      "            \"path\": \"m/44'/60'/0'/0/2\",\n",
      "            \"privkey\": \"0x9221b3ec91ac53ad40db99ab00702cb1ea537cb95b7e74f8dac68053427f4db7\",\n",
      "            \"pubkey\": \"0296c98cc8dd7978f0eb98ef68c6ac6e2236f2b6a4a509220a5c827f81a2175d61\",\n",
      "            \"pubkeyhash\": \"4dd2230c5fda8ce1b90209a5be99483acbeb17c7\",\n",
      "            \"xprv\": \"xprvA3NGkzdWKH2Y6iVVga1rRYLWggRZUscLSCHmjmXTtW2YVHCvEgaqEzD2pEfvgXgEsgtjacdvea4bBqudadFmR1hUeRncUaJFLokztzLmfHk\",\n",
      "            \"xpub\": \"xpub6GMdAWAQ9eaqKCZxnbYrngHFEiG3tLLBoRDNY9w5SqZXN5Y4nDu5nnXWfVjk3fgY5scKCBLh1KBbSvgnsd8Z2r4BELq3gvvArftVNLEEJRK\"\n",
      "        }\n",
      "    ]\n",
      "}\n"
     ]
    }
   ],
   "source": [
    "coins = {'eth':derive_wallets(phrase=mnemonic,coin=ETH,numderive=3),'btc-test': derive_wallets(mnemonic,coin=BTCTEST,numderive=3)}\n",
    "print(json.dumps(coins, indent=4, sort_keys=True))"
   ]
  },
  {
   "cell_type": "code",
   "execution_count": 8,
   "id": "98b315d2-8198-4d41-8c7e-9f6bde8d115e",
   "metadata": {},
   "outputs": [],
   "source": [
    "eth_key = coins['eth'][0]['privkey']\n",
    "btc_key = coins['btc-test'][0]['privkey']"
   ]
  },
  {
   "cell_type": "code",
   "execution_count": 9,
   "id": "9e5dc316-9669-40d3-a664-0756aebe07b3",
   "metadata": {},
   "outputs": [],
   "source": [
    "def priv_key_to_account(coin, priv_key):\n",
    "    global account\n",
    "    if coin == 'eth':\n",
    "        account=Account.privateKeyToAccount(priv_key)\n",
    "    else:\n",
    "        account=PrivateKeyTestnet(priv_key)\n",
    "    return account"
   ]
  },
  {
   "cell_type": "code",
   "execution_count": 10,
   "id": "88f7cf22-4b00-4af5-97c8-3ea2fc51f1b0",
   "metadata": {},
   "outputs": [
    {
     "data": {
      "text/plain": [
       "<eth_account.signers.local.LocalAccount at 0x7f8e79e5cd60>"
      ]
     },
     "execution_count": 10,
     "metadata": {},
     "output_type": "execute_result"
    }
   ],
   "source": [
    "priv_key_to_account(ETH,eth_key)"
   ]
  },
  {
   "cell_type": "code",
   "execution_count": 11,
   "id": "4ec918a7-fbc0-472d-9929-3eda498f1951",
   "metadata": {},
   "outputs": [
    {
     "data": {
      "text/plain": [
       "<PrivateKeyTestnet: mhbPMTNRNg4aR82NmBDPvn28bUWUW9zd51>"
      ]
     },
     "execution_count": 11,
     "metadata": {},
     "output_type": "execute_result"
    }
   ],
   "source": [
    "priv_key_to_account(BTCTEST,btc_key)"
   ]
  },
  {
   "cell_type": "code",
   "execution_count": 12,
   "id": "233cae4a-cb56-48d9-9b52-cac97f528a84",
   "metadata": {},
   "outputs": [],
   "source": [
    "def create_tx(coin,account,recipient,amount):\n",
    "    global tx_data\n",
    "    if coin =='eth':\n",
    "        gasEstimate = w3.eth.estimateGas(\n",
    "            {\"from\": account.address, \"to\": recipient, \"value\": amount}\n",
    "        )\n",
    "        tx_data= {\n",
    "            \"from\": account.address,\n",
    "            \"to\": recipient,\n",
    "            \"value\": amount,\n",
    "            \"gasPrice\": w3.eth.gasPrice,\n",
    "            \"gas\": gasEstimate,\n",
    "            \"nonce\": w3.eth.getTransactionCount(account.address),\n",
    "        }\n",
    "        return tx_data\n",
    "    else:\n",
    "        tx_data = PrivateKeyTestnet.prepare_transaction(account.address, [(recipient, amount, BTC)])\n",
    "        return tx_data"
   ]
  },
  {
   "cell_type": "code",
   "execution_count": 13,
   "id": "ce289100-86af-4d08-9f3e-3d15e3cfde36",
   "metadata": {},
   "outputs": [
    {
     "data": {
      "text/plain": [
       "'{\"unspents\":[{\"amount\":43706,\"confirmations\":311,\"script\":\"76a91416c6d5545d6e70c5dd9398828b22b95590e8208a88ac\",\"txid\":\"b4684d121fff9d79b914cdda5a619684a8dbd38480796799255b591d9b7a6318\",\"txindex\":1,\"type\":\"p2pkh\",\"vsize\":148,\"segwit\":false,\"sequence\":4294967295}],\"outputs\":[[\"mfXhBW9nQBgrGYpRJMquVLjwFMy8FurX5T\",10000],[\"mhbPMTNRNg4aR82NmBDPvn28bUWUW9zd51\",10654]]}'"
      ]
     },
     "execution_count": 13,
     "metadata": {},
     "output_type": "execute_result"
    }
   ],
   "source": [
    "create_tx(BTCTEST,account,'mfXhBW9nQBgrGYpRJMquVLjwFMy8FurX5T',0.0001)\n"
   ]
  },
  {
   "cell_type": "code",
   "execution_count": 14,
   "id": "70129533-f9f5-4ecf-ba9d-7e538b093062",
   "metadata": {},
   "outputs": [],
   "source": [
    "def send_tx(coin, account, recipient, amount):\n",
    "    if coin == ETH:\n",
    "        tx = create_tx(coin,account, recipient, amount)\n",
    "        signed_tx = account.sign_transaction(tx)\n",
    "        result = w3.eth.sendRawTransaction(signed_tx.rawTransaction)\n",
    "        print(result.hex())\n",
    "        return result.hex()\n",
    "    else:\n",
    "        tx_data = create_tx(coin,account,recipient,amount)\n",
    "        signed = account.sign_transaction(tx_data)\n",
    "        NetworkAPI.broadcast_tx_testnet(signed)\n",
    "        return signed"
   ]
  },
  {
   "cell_type": "code",
   "execution_count": 15,
   "id": "37aa5d1c-051a-4dc7-a176-138543b02568",
   "metadata": {},
   "outputs": [
    {
     "data": {
      "text/plain": [
       "'010000000118637a9b1d595b259967798084d3dba88496615adacd14b9799dff1f124d68b4010000006a47304402201c4680e33cad09a093ab9a6b332e6362befc95a3f28a2c757b44613568659ff002205927155d0fc6c0f53125d421d8e8b1f14880fd1b9269f2746e7e8c60bb3c4a63012102f53ed1ae8a5ad518049cade7e41e187b276bd46f75c597727be04ce4ce20991cffffffff0210270000000000001976a91416c6d5545d6e70c5dd9398828b22b95590e8208a88ac9e290000000000001976a91416c6d5545d6e70c5dd9398828b22b95590e8208a88ac00000000'"
      ]
     },
     "execution_count": 15,
     "metadata": {},
     "output_type": "execute_result"
    }
   ],
   "source": [
    "send_tx(BTCTEST,account,'mhbPMTNRNg4aR82NmBDPvn28bUWUW9zd51',0.0001)"
   ]
  },
  {
   "cell_type": "code",
   "execution_count": null,
   "id": "c2727793-5878-448f-a4c1-5ef85afab319",
   "metadata": {},
   "outputs": [],
   "source": []
  }
 ],
 "metadata": {
  "kernelspec": {
   "display_name": "Python 3",
   "language": "python",
   "name": "python3"
  },
  "language_info": {
   "codemirror_mode": {
    "name": "ipython",
    "version": 3
   },
   "file_extension": ".py",
   "mimetype": "text/x-python",
   "name": "python",
   "nbconvert_exporter": "python",
   "pygments_lexer": "ipython3",
   "version": "3.8.2"
  }
 },
 "nbformat": 4,
 "nbformat_minor": 5
}
